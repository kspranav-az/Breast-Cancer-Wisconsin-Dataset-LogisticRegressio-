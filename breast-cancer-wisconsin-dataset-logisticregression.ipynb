{
 "cells": [
  {
   "cell_type": "code",
   "execution_count": 1,
   "id": "1d9a97c9",
   "metadata": {
    "_cell_guid": "b1076dfc-b9ad-4769-8c92-a6c4dae69d19",
    "_uuid": "8f2839f25d086af736a60e9eeb907d3b93b6e0e5",
    "execution": {
     "iopub.execute_input": "2025-04-29T14:14:41.938434Z",
     "iopub.status.busy": "2025-04-29T14:14:41.938067Z",
     "iopub.status.idle": "2025-04-29T14:14:44.064156Z",
     "shell.execute_reply": "2025-04-29T14:14:44.062771Z"
    },
    "papermill": {
     "duration": 2.134292,
     "end_time": "2025-04-29T14:14:44.066344",
     "exception": false,
     "start_time": "2025-04-29T14:14:41.932052",
     "status": "completed"
    },
    "tags": []
   },
   "outputs": [
    {
     "name": "stdout",
     "output_type": "stream",
     "text": [
      "/kaggle/input/breast-cancer-wisconsin-data/data.csv\n"
     ]
    }
   ],
   "source": [
    "# This Python 3 environment comes with many helpful analytics libraries installed\n",
    "# It is defined by the kaggle/python Docker image: https://github.com/kaggle/docker-python\n",
    "# For example, here's several helpful packages to load\n",
    "\n",
    "import numpy as np # linear algebra\n",
    "import pandas as pd # data processing, CSV file I/O (e.g. pd.read_csv)\n",
    "\n",
    "# Input data files are available in the read-only \"../input/\" directory\n",
    "# For example, running this (by clicking run or pressing Shift+Enter) will list all files under the input directory\n",
    "\n",
    "import os\n",
    "for dirname, _, filenames in os.walk('/kaggle/input'):\n",
    "    for filename in filenames:\n",
    "        print(os.path.join(dirname, filename))\n",
    "\n",
    "# You can write up to 20GB to the current directory (/kaggle/working/) that gets preserved as output when you create a version using \"Save & Run All\" \n",
    "# You can also write temporary files to /kaggle/temp/, but they won't be saved outside of the current session"
   ]
  },
  {
   "cell_type": "markdown",
   "id": "c97a5878",
   "metadata": {
    "papermill": {
     "duration": 0.002886,
     "end_time": "2025-04-29T14:14:44.073268",
     "exception": false,
     "start_time": "2025-04-29T14:14:44.070382",
     "status": "completed"
    },
    "tags": []
   },
   "source": [
    "# Classification with Logistic Regression\n",
    "\n",
    "## Objective\n",
    "Build a binary classifier using logistic regression to distinguish between two data classes.\n",
    "\n"
   ]
  },
  {
   "cell_type": "code",
   "execution_count": 2,
   "id": "57decaee",
   "metadata": {
    "execution": {
     "iopub.execute_input": "2025-04-29T14:14:44.081234Z",
     "iopub.status.busy": "2025-04-29T14:14:44.080675Z",
     "iopub.status.idle": "2025-04-29T14:14:46.806462Z",
     "shell.execute_reply": "2025-04-29T14:14:46.805333Z"
    },
    "papermill": {
     "duration": 2.732002,
     "end_time": "2025-04-29T14:14:46.808370",
     "exception": false,
     "start_time": "2025-04-29T14:14:44.076368",
     "status": "completed"
    },
    "tags": []
   },
   "outputs": [],
   "source": [
    "# Import necessary libraries\n",
    "import numpy as np\n",
    "import pandas as pd\n",
    "import matplotlib.pyplot as plt\n",
    "import seaborn as sns\n",
    "\n",
    "from sklearn.preprocessing import LabelEncoder\n",
    "from sklearn.model_selection import train_test_split\n",
    "from sklearn.preprocessing import StandardScaler\n",
    "from sklearn.linear_model import LogisticRegression\n",
    "from sklearn.metrics import (\n",
    "    confusion_matrix,\n",
    "    classification_report,\n",
    "    roc_auc_score,\n",
    "    roc_curve,\n",
    "    accuracy_score,\n",
    "    precision_score,\n",
    "    recall_score\n",
    ")\n"
   ]
  },
  {
   "cell_type": "markdown",
   "id": "e90d4f50",
   "metadata": {
    "papermill": {
     "duration": 0.003139,
     "end_time": "2025-04-29T14:14:46.814764",
     "exception": false,
     "start_time": "2025-04-29T14:14:46.811625",
     "status": "completed"
    },
    "tags": []
   },
   "source": [
    "## Step 1: Load and Explore the Dataset\n"
   ]
  },
  {
   "cell_type": "code",
   "execution_count": 3,
   "id": "2df45ce0",
   "metadata": {
    "execution": {
     "iopub.execute_input": "2025-04-29T14:14:46.823014Z",
     "iopub.status.busy": "2025-04-29T14:14:46.822352Z",
     "iopub.status.idle": "2025-04-29T14:14:46.909093Z",
     "shell.execute_reply": "2025-04-29T14:14:46.908037Z"
    },
    "papermill": {
     "duration": 0.092148,
     "end_time": "2025-04-29T14:14:46.910560",
     "exception": false,
     "start_time": "2025-04-29T14:14:46.818412",
     "status": "completed"
    },
    "tags": []
   },
   "outputs": [
    {
     "name": "stdout",
     "output_type": "stream",
     "text": [
      "id                           0\n",
      "diagnosis                    0\n",
      "radius_mean                  0\n",
      "texture_mean                 0\n",
      "perimeter_mean               0\n",
      "area_mean                    0\n",
      "smoothness_mean              0\n",
      "compactness_mean             0\n",
      "concavity_mean               0\n",
      "concave points_mean          0\n",
      "symmetry_mean                0\n",
      "fractal_dimension_mean       0\n",
      "radius_se                    0\n",
      "texture_se                   0\n",
      "perimeter_se                 0\n",
      "area_se                      0\n",
      "smoothness_se                0\n",
      "compactness_se               0\n",
      "concavity_se                 0\n",
      "concave points_se            0\n",
      "symmetry_se                  0\n",
      "fractal_dimension_se         0\n",
      "radius_worst                 0\n",
      "texture_worst                0\n",
      "perimeter_worst              0\n",
      "area_worst                   0\n",
      "smoothness_worst             0\n",
      "compactness_worst            0\n",
      "concavity_worst              0\n",
      "concave points_worst         0\n",
      "symmetry_worst               0\n",
      "fractal_dimension_worst      0\n",
      "Unnamed: 32                569\n",
      "dtype: int64\n"
     ]
    },
    {
     "data": {
      "text/html": [
       "<div>\n",
       "<style scoped>\n",
       "    .dataframe tbody tr th:only-of-type {\n",
       "        vertical-align: middle;\n",
       "    }\n",
       "\n",
       "    .dataframe tbody tr th {\n",
       "        vertical-align: top;\n",
       "    }\n",
       "\n",
       "    .dataframe thead th {\n",
       "        text-align: right;\n",
       "    }\n",
       "</style>\n",
       "<table border=\"1\" class=\"dataframe\">\n",
       "  <thead>\n",
       "    <tr style=\"text-align: right;\">\n",
       "      <th></th>\n",
       "      <th>id</th>\n",
       "      <th>diagnosis</th>\n",
       "      <th>radius_mean</th>\n",
       "      <th>texture_mean</th>\n",
       "      <th>perimeter_mean</th>\n",
       "      <th>area_mean</th>\n",
       "      <th>smoothness_mean</th>\n",
       "      <th>compactness_mean</th>\n",
       "      <th>concavity_mean</th>\n",
       "      <th>concave points_mean</th>\n",
       "      <th>...</th>\n",
       "      <th>radius_worst</th>\n",
       "      <th>texture_worst</th>\n",
       "      <th>perimeter_worst</th>\n",
       "      <th>area_worst</th>\n",
       "      <th>smoothness_worst</th>\n",
       "      <th>compactness_worst</th>\n",
       "      <th>concavity_worst</th>\n",
       "      <th>concave points_worst</th>\n",
       "      <th>symmetry_worst</th>\n",
       "      <th>fractal_dimension_worst</th>\n",
       "    </tr>\n",
       "  </thead>\n",
       "  <tbody>\n",
       "    <tr>\n",
       "      <th>0</th>\n",
       "      <td>842302</td>\n",
       "      <td>M</td>\n",
       "      <td>17.99</td>\n",
       "      <td>10.38</td>\n",
       "      <td>122.80</td>\n",
       "      <td>1001.0</td>\n",
       "      <td>0.11840</td>\n",
       "      <td>0.27760</td>\n",
       "      <td>0.3001</td>\n",
       "      <td>0.14710</td>\n",
       "      <td>...</td>\n",
       "      <td>25.38</td>\n",
       "      <td>17.33</td>\n",
       "      <td>184.60</td>\n",
       "      <td>2019.0</td>\n",
       "      <td>0.1622</td>\n",
       "      <td>0.6656</td>\n",
       "      <td>0.7119</td>\n",
       "      <td>0.2654</td>\n",
       "      <td>0.4601</td>\n",
       "      <td>0.11890</td>\n",
       "    </tr>\n",
       "    <tr>\n",
       "      <th>1</th>\n",
       "      <td>842517</td>\n",
       "      <td>M</td>\n",
       "      <td>20.57</td>\n",
       "      <td>17.77</td>\n",
       "      <td>132.90</td>\n",
       "      <td>1326.0</td>\n",
       "      <td>0.08474</td>\n",
       "      <td>0.07864</td>\n",
       "      <td>0.0869</td>\n",
       "      <td>0.07017</td>\n",
       "      <td>...</td>\n",
       "      <td>24.99</td>\n",
       "      <td>23.41</td>\n",
       "      <td>158.80</td>\n",
       "      <td>1956.0</td>\n",
       "      <td>0.1238</td>\n",
       "      <td>0.1866</td>\n",
       "      <td>0.2416</td>\n",
       "      <td>0.1860</td>\n",
       "      <td>0.2750</td>\n",
       "      <td>0.08902</td>\n",
       "    </tr>\n",
       "    <tr>\n",
       "      <th>2</th>\n",
       "      <td>84300903</td>\n",
       "      <td>M</td>\n",
       "      <td>19.69</td>\n",
       "      <td>21.25</td>\n",
       "      <td>130.00</td>\n",
       "      <td>1203.0</td>\n",
       "      <td>0.10960</td>\n",
       "      <td>0.15990</td>\n",
       "      <td>0.1974</td>\n",
       "      <td>0.12790</td>\n",
       "      <td>...</td>\n",
       "      <td>23.57</td>\n",
       "      <td>25.53</td>\n",
       "      <td>152.50</td>\n",
       "      <td>1709.0</td>\n",
       "      <td>0.1444</td>\n",
       "      <td>0.4245</td>\n",
       "      <td>0.4504</td>\n",
       "      <td>0.2430</td>\n",
       "      <td>0.3613</td>\n",
       "      <td>0.08758</td>\n",
       "    </tr>\n",
       "    <tr>\n",
       "      <th>3</th>\n",
       "      <td>84348301</td>\n",
       "      <td>M</td>\n",
       "      <td>11.42</td>\n",
       "      <td>20.38</td>\n",
       "      <td>77.58</td>\n",
       "      <td>386.1</td>\n",
       "      <td>0.14250</td>\n",
       "      <td>0.28390</td>\n",
       "      <td>0.2414</td>\n",
       "      <td>0.10520</td>\n",
       "      <td>...</td>\n",
       "      <td>14.91</td>\n",
       "      <td>26.50</td>\n",
       "      <td>98.87</td>\n",
       "      <td>567.7</td>\n",
       "      <td>0.2098</td>\n",
       "      <td>0.8663</td>\n",
       "      <td>0.6869</td>\n",
       "      <td>0.2575</td>\n",
       "      <td>0.6638</td>\n",
       "      <td>0.17300</td>\n",
       "    </tr>\n",
       "    <tr>\n",
       "      <th>4</th>\n",
       "      <td>84358402</td>\n",
       "      <td>M</td>\n",
       "      <td>20.29</td>\n",
       "      <td>14.34</td>\n",
       "      <td>135.10</td>\n",
       "      <td>1297.0</td>\n",
       "      <td>0.10030</td>\n",
       "      <td>0.13280</td>\n",
       "      <td>0.1980</td>\n",
       "      <td>0.10430</td>\n",
       "      <td>...</td>\n",
       "      <td>22.54</td>\n",
       "      <td>16.67</td>\n",
       "      <td>152.20</td>\n",
       "      <td>1575.0</td>\n",
       "      <td>0.1374</td>\n",
       "      <td>0.2050</td>\n",
       "      <td>0.4000</td>\n",
       "      <td>0.1625</td>\n",
       "      <td>0.2364</td>\n",
       "      <td>0.07678</td>\n",
       "    </tr>\n",
       "  </tbody>\n",
       "</table>\n",
       "<p>5 rows × 32 columns</p>\n",
       "</div>"
      ],
      "text/plain": [
       "         id diagnosis  radius_mean  texture_mean  perimeter_mean  area_mean  \\\n",
       "0    842302         M        17.99         10.38          122.80     1001.0   \n",
       "1    842517         M        20.57         17.77          132.90     1326.0   \n",
       "2  84300903         M        19.69         21.25          130.00     1203.0   \n",
       "3  84348301         M        11.42         20.38           77.58      386.1   \n",
       "4  84358402         M        20.29         14.34          135.10     1297.0   \n",
       "\n",
       "   smoothness_mean  compactness_mean  concavity_mean  concave points_mean  \\\n",
       "0          0.11840           0.27760          0.3001              0.14710   \n",
       "1          0.08474           0.07864          0.0869              0.07017   \n",
       "2          0.10960           0.15990          0.1974              0.12790   \n",
       "3          0.14250           0.28390          0.2414              0.10520   \n",
       "4          0.10030           0.13280          0.1980              0.10430   \n",
       "\n",
       "   ...  radius_worst  texture_worst  perimeter_worst  area_worst  \\\n",
       "0  ...         25.38          17.33           184.60      2019.0   \n",
       "1  ...         24.99          23.41           158.80      1956.0   \n",
       "2  ...         23.57          25.53           152.50      1709.0   \n",
       "3  ...         14.91          26.50            98.87       567.7   \n",
       "4  ...         22.54          16.67           152.20      1575.0   \n",
       "\n",
       "   smoothness_worst  compactness_worst  concavity_worst  concave points_worst  \\\n",
       "0            0.1622             0.6656           0.7119                0.2654   \n",
       "1            0.1238             0.1866           0.2416                0.1860   \n",
       "2            0.1444             0.4245           0.4504                0.2430   \n",
       "3            0.2098             0.8663           0.6869                0.2575   \n",
       "4            0.1374             0.2050           0.4000                0.1625   \n",
       "\n",
       "   symmetry_worst  fractal_dimension_worst  \n",
       "0          0.4601                  0.11890  \n",
       "1          0.2750                  0.08902  \n",
       "2          0.3613                  0.08758  \n",
       "3          0.6638                  0.17300  \n",
       "4          0.2364                  0.07678  \n",
       "\n",
       "[5 rows x 32 columns]"
      ]
     },
     "execution_count": 3,
     "metadata": {},
     "output_type": "execute_result"
    }
   ],
   "source": [
    "# Load dataset\n",
    "df = pd.read_csv(\"/kaggle/input/breast-cancer-wisconsin-data/data.csv\")\n",
    "\n",
    "# Check for missing values\n",
    "print(df.isnull().sum())\n",
    "df.drop(\"Unnamed: 32\" , axis=1 , inplace = True)\n",
    "df = df.replace([np.inf, -np.inf ], np.nan)\n",
    "df = df.fillna(df.mean(numeric_only=True))  # Fill NaNs with column means\n",
    "\n",
    "\n",
    "\n",
    "# # Inspect the first few rows\n",
    "df.head()\n",
    "\n"
   ]
  },
  {
   "cell_type": "code",
   "execution_count": 4,
   "id": "fe567b2a",
   "metadata": {
    "execution": {
     "iopub.execute_input": "2025-04-29T14:14:46.920959Z",
     "iopub.status.busy": "2025-04-29T14:14:46.920584Z",
     "iopub.status.idle": "2025-04-29T14:14:46.934567Z",
     "shell.execute_reply": "2025-04-29T14:14:46.933520Z"
    },
    "papermill": {
     "duration": 0.021708,
     "end_time": "2025-04-29T14:14:46.936397",
     "exception": false,
     "start_time": "2025-04-29T14:14:46.914689",
     "status": "completed"
    },
    "tags": []
   },
   "outputs": [],
   "source": [
    "X = df.drop(columns=['diagnosis'])  \n",
    "y = df['diagnosis']                 \n",
    "\n",
    "#  check class balance\n",
    "y.value_counts(normalize=True)# Encode string labels to numeric\n",
    "\n",
    "le = LabelEncoder()\n",
    "y = le.fit_transform(y)  # 'B' -> 0, 'M' -> 1"
   ]
  },
  {
   "cell_type": "markdown",
   "id": "f3c11430",
   "metadata": {
    "papermill": {
     "duration": 0.003106,
     "end_time": "2025-04-29T14:14:46.942963",
     "exception": false,
     "start_time": "2025-04-29T14:14:46.939857",
     "status": "completed"
    },
    "tags": []
   },
   "source": [
    "## Step 2: Train/Test Split and Standardize Features\n"
   ]
  },
  {
   "cell_type": "code",
   "execution_count": 5,
   "id": "a060c2a7",
   "metadata": {
    "execution": {
     "iopub.execute_input": "2025-04-29T14:14:46.951105Z",
     "iopub.status.busy": "2025-04-29T14:14:46.950768Z",
     "iopub.status.idle": "2025-04-29T14:14:46.988382Z",
     "shell.execute_reply": "2025-04-29T14:14:46.987448Z"
    },
    "papermill": {
     "duration": 0.043784,
     "end_time": "2025-04-29T14:14:46.990128",
     "exception": false,
     "start_time": "2025-04-29T14:14:46.946344",
     "status": "completed"
    },
    "tags": []
   },
   "outputs": [],
   "source": [
    "# Split the data\n",
    "X_train, X_test, y_train, y_test = train_test_split(X, y, test_size=0.2, random_state=42)\n",
    "\n",
    "# Standardize the features\n",
    "scaler = StandardScaler()\n",
    "X_train_scaled = scaler.fit_transform(X_train)\n",
    "X_test_scaled = scaler.transform(X_test)\n"
   ]
  },
  {
   "cell_type": "markdown",
   "id": "efe51ae6",
   "metadata": {
    "papermill": {
     "duration": 0.003199,
     "end_time": "2025-04-29T14:14:46.996816",
     "exception": false,
     "start_time": "2025-04-29T14:14:46.993617",
     "status": "completed"
    },
    "tags": []
   },
   "source": [
    "## Step 3: Fit a Logistic Regression Model\n"
   ]
  },
  {
   "cell_type": "code",
   "execution_count": 6,
   "id": "dcb53dc5",
   "metadata": {
    "execution": {
     "iopub.execute_input": "2025-04-29T14:14:47.005743Z",
     "iopub.status.busy": "2025-04-29T14:14:47.005375Z",
     "iopub.status.idle": "2025-04-29T14:14:47.221253Z",
     "shell.execute_reply": "2025-04-29T14:14:47.218154Z"
    },
    "papermill": {
     "duration": 0.22337,
     "end_time": "2025-04-29T14:14:47.223692",
     "exception": false,
     "start_time": "2025-04-29T14:14:47.000322",
     "status": "completed"
    },
    "tags": []
   },
   "outputs": [],
   "source": [
    "# Fit the model\n",
    "model = LogisticRegression()\n",
    "model.fit(X_train_scaled, y_train)\n",
    "\n",
    "# Predict on test data\n",
    "y_pred = model.predict(X_test_scaled)\n"
   ]
  },
  {
   "cell_type": "markdown",
   "id": "6dc4cae8",
   "metadata": {
    "papermill": {
     "duration": 0.005691,
     "end_time": "2025-04-29T14:14:47.234718",
     "exception": false,
     "start_time": "2025-04-29T14:14:47.229027",
     "status": "completed"
    },
    "tags": []
   },
   "source": [
    "## Step 4: Evaluation Metrics - Confusion Matrix, Precision, Recall, ROC-AUC\n"
   ]
  },
  {
   "cell_type": "code",
   "execution_count": 7,
   "id": "601d11a3",
   "metadata": {
    "execution": {
     "iopub.execute_input": "2025-04-29T14:14:47.247706Z",
     "iopub.status.busy": "2025-04-29T14:14:47.247348Z",
     "iopub.status.idle": "2025-04-29T14:14:47.745884Z",
     "shell.execute_reply": "2025-04-29T14:14:47.744605Z"
    },
    "papermill": {
     "duration": 0.50647,
     "end_time": "2025-04-29T14:14:47.747410",
     "exception": false,
     "start_time": "2025-04-29T14:14:47.240940",
     "status": "completed"
    },
    "tags": []
   },
   "outputs": [
    {
     "data": {
      "image/png": "[encoded data removed]",
      "text/plain": [
       "<Figure size 640x480 with 2 Axes>"
      ]
     },
     "metadata": {},
     "output_type": "display_data"
    },
    {
     "name": "stdout",
     "output_type": "stream",
     "text": [
      "              precision    recall  f1-score   support\n",
      "\n",
      "           0       0.97      0.99      0.98        71\n",
      "           1       0.98      0.95      0.96        43\n",
      "\n",
      "    accuracy                           0.97       114\n",
      "   macro avg       0.97      0.97      0.97       114\n",
      "weighted avg       0.97      0.97      0.97       114\n",
      "\n"
     ]
    },
    {
     "data": {
      "image/png": "[encoded data removed]",
      "text/plain": [
       "<Figure size 640x480 with 1 Axes>"
      ]
     },
     "metadata": {},
     "output_type": "display_data"
    }
   ],
   "source": [
    "# Confusion matrix\n",
    "conf_matrix = confusion_matrix(y_test, y_pred)\n",
    "sns.heatmap(conf_matrix, annot=True, fmt='d', cmap='Blues')\n",
    "plt.title(\"Confusion Matrix\")\n",
    "plt.xlabel(\"Predicted\")\n",
    "plt.ylabel(\"Actual\")\n",
    "plt.show()\n",
    "\n",
    "# Classification report\n",
    "print(classification_report(y_test, y_pred))\n",
    "\n",
    "# ROC Curve\n",
    "y_proba = model.predict_proba(X_test_scaled)[:, 1]\n",
    "fpr, tpr, thresholds = roc_curve(y_test, y_proba)\n",
    "roc_auc = roc_auc_score(y_test, y_proba)\n",
    "\n",
    "plt.plot(fpr, tpr, label=f\"ROC Curve (AUC = {roc_auc:.2f})\")\n",
    "plt.plot([0, 1], [0, 1], linestyle=\"--\")\n",
    "plt.xlabel(\"False Positive Rate\")\n",
    "plt.ylabel(\"True Positive Rate\")\n",
    "plt.title(\"ROC Curve\")\n",
    "plt.legend()\n",
    "plt.grid()\n",
    "plt.show()\n"
   ]
  },
  {
   "cell_type": "markdown",
   "id": "e7b7ffec",
   "metadata": {
    "papermill": {
     "duration": 0.003927,
     "end_time": "2025-04-29T14:14:47.755773",
     "exception": false,
     "start_time": "2025-04-29T14:14:47.751846",
     "status": "completed"
    },
    "tags": []
   },
   "source": [
    "## Step 5: Tune Threshold and Explain the Sigmoid Function\n",
    "\n",
    "The logistic regression model outputs probabilities through the **sigmoid function**:\n",
    "\n",
    "$$\n",
    "\\sigma(z) = \\frac{1}{1 + e^{-z}}\n",
    "$$\n",
    "\n",
    "We can tune the threshold (default is 0.5) to adjust the sensitivity vs specificity tradeoff.\n"
   ]
  },
  {
   "cell_type": "code",
   "execution_count": 8,
   "id": "55aa9ea2",
   "metadata": {
    "execution": {
     "iopub.execute_input": "2025-04-29T14:14:47.765405Z",
     "iopub.status.busy": "2025-04-29T14:14:47.765069Z",
     "iopub.status.idle": "2025-04-29T14:14:47.776584Z",
     "shell.execute_reply": "2025-04-29T14:14:47.775698Z"
    },
    "papermill": {
     "duration": 0.018027,
     "end_time": "2025-04-29T14:14:47.778036",
     "exception": false,
     "start_time": "2025-04-29T14:14:47.760009",
     "status": "completed"
    },
    "tags": []
   },
   "outputs": [
    {
     "name": "stdout",
     "output_type": "stream",
     "text": [
      "Precision: 0.98\n",
      "Recall: 0.98\n"
     ]
    }
   ],
   "source": [
    "# Threshold tuning example\n",
    "custom_threshold = 0.48\n",
    "y_pred_custom = (y_proba >= custom_threshold).astype(int)\n",
    "\n",
    "print(f\"Precision: {precision_score(y_test, y_pred_custom):.2f}\")\n",
    "print(f\"Recall: {recall_score(y_test, y_pred_custom):.2f}\")\n"
   ]
  }
 ],
 "metadata": {
  "kaggle": {
   "accelerator": "none",
   "dataSources": [
    {
     "datasetId": 180,
     "sourceId": 408,
     "sourceType": "datasetVersion"
    }
   ],
   "dockerImageVersionId": 31012,
   "isGpuEnabled": false,
   "isInternetEnabled": true,
   "language": "python",
   "sourceType": "notebook"
  },
  "kernelspec": {
   "display_name": "Python 3",
   "language": "python",
   "name": "python3"
  },
  "language_info": {
   "codemirror_mode": {
    "name": "ipython",
    "version": 3
   },
   "file_extension": ".py",
   "mimetype": "text/x-python",
   "name": "python",
   "nbconvert_exporter": "python",
   "pygments_lexer": "ipython3",
   "version": "3.11.11"
  },
  "papermill": {
   "default_parameters": {},
   "duration": 11.887991,
   "end_time": "2025-04-29T14:14:48.504287",
   "environment_variables": {},
   "exception": null,
   "input_path": "__notebook__.ipynb",
   "output_path": "__notebook__.ipynb",
   "parameters": {},
   "start_time": "2025-04-29T14:14:36.616296",
   "version": "2.6.0"
  }
 },
 "nbformat": 4,
 "nbformat_minor": 5
}
